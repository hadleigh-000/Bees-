{
 "cells": [
  {
   "cell_type": "markdown",
   "metadata": {},
   "source": [
    "Bee information: \n",
    "\n",
    "Here's a link to someone elses model, and the equations they used (this is analysis of of a deterministic model i think) \n",
    "\n",
    "https://agdev.anr.udel.edu/maarec/honey-bee-biology/seasonal-cycles-of-activities-in-colonies/ \n",
    "\n",
    "Queen: only one, the only one that lays eggs. \n",
    "The number of eggs the queen lays depends on the amount of food she receives and the size of the worker force capable of preparing beeswax cells for her eggs and caring for the larva that will hatch from the eggs in 3 days. When the queen substance secreted by the queen is no longer adequate, the workers prepare to replace (supersede) her. The old queen and her new daughter may both be present in the hive for some time following supersedure.\n",
    "\n",
    "The life span of the worker during summer is about 6 weeks. Workers reared in the fall may live as long as 6 months, allowing the colony to survive the winter and assisting in the rearing of new generations in the spring before they die.\n",
    "\n",
    "Unfertilized eggs become drones, while fertilized eggs become either workers or queens. Nutrition plays an important part in caste development of female bees; larvae destined to become workers receive less royal jelly and more a mixture of honey and pollen compared to the copious amounts of royal jelly that the queen larva receives.\n",
    "\n",
    "Larvae: Worker, queen, and drone cells are capped after larvae are approximately 5 ½, 6, and 6 ½ days old, respectively. \n",
    "\n",
    "Egg gestation: 3 days\n",
    "\n",
    "Pupae:  New workers, queens, and drones emerge approximately 12, 7 ½, and 14 ½ days, respectively\n",
    "\n",
    "Swarming: this is when a new queen starts to mature, but the old one is still alive, a group of workers will go with the new queen and try to start a new colony. swarms usually have between 2 million and 20 million worker bees"
   ]
  },
  {
   "cell_type": "code",
   "execution_count": null,
   "metadata": {
    "collapsed": true
   },
   "outputs": [],
   "source": []
  },
  {
   "cell_type": "code",
   "execution_count": null,
   "metadata": {
    "collapsed": true
   },
   "outputs": [],
   "source": []
  },
  {
   "cell_type": "code",
   "execution_count": null,
   "metadata": {
    "collapsed": true
   },
   "outputs": [],
   "source": []
  },
  {
   "cell_type": "code",
   "execution_count": null,
   "metadata": {
    "collapsed": true
   },
   "outputs": [],
   "source": []
  },
  {
   "cell_type": "code",
   "execution_count": null,
   "metadata": {
    "collapsed": true
   },
   "outputs": [],
   "source": []
  },
  {
   "cell_type": "code",
   "execution_count": null,
   "metadata": {
    "collapsed": true
   },
   "outputs": [],
   "source": []
  }
 ],
 "metadata": {
  "kernelspec": {
   "display_name": "Python 3",
   "language": "python",
   "name": "python3"
  },
  "language_info": {
   "codemirror_mode": {
    "name": "ipython",
    "version": 3
   },
   "file_extension": ".py",
   "mimetype": "text/x-python",
   "name": "python",
   "nbconvert_exporter": "python",
   "pygments_lexer": "ipython3",
   "version": "3.6.1"
  }
 },
 "nbformat": 4,
 "nbformat_minor": 2
}
