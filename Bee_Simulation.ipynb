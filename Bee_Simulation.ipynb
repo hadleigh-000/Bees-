{
 "cells": [
  {
   "cell_type": "markdown",
   "metadata": {},
   "source": [
    "\n"
   ]
  },
  {
   "cell_type": "code",
   "execution_count": 92,
   "metadata": {},
   "outputs": [],
   "source": [
    "\n",
    "%matplotlib inline\n",
    "\n",
    "from modsim import *\n",
    "from numpy import random\n",
    "\n",
    "from pandas import read_html\n",
    "\n",
    "from pandas import read_csv\n",
    "\n",
    "#from bs4 import BeautifulSoup4\n",
    "\n",
    "\n"
   ]
  },
  {
   "cell_type": "code",
   "execution_count": 79,
   "metadata": {},
   "outputs": [],
   "source": [
    "filename= (\"C:/Users/hnunes/documents/GitHub/ModSimpy/code/BeePop.csv\")\n",
    "\n",
    "\n",
    "\n",
    "tables = read_csv(filename, header=0, index_col=0, decimal='.')\n",
    "\n",
    "#filename2= ('https://bip2.beeinformed.org/geo/')\n",
    "\n",
    "#tables2= read_html(filename2, header=0, index_col=0, decimal='.')"
   ]
  },
  {
   "cell_type": "code",
   "execution_count": 90,
   "metadata": {},
   "outputs": [
    {
     "data": {
      "text/html": [
       "<div>\n",
       "<style>\n",
       "    .dataframe thead tr:only-child th {\n",
       "        text-align: right;\n",
       "    }\n",
       "\n",
       "    .dataframe thead th {\n",
       "        text-align: left;\n",
       "    }\n",
       "\n",
       "    .dataframe tbody tr th {\n",
       "        vertical-align: top;\n",
       "    }\n",
       "</style>\n",
       "<table border=\"1\" class=\"dataframe\">\n",
       "  <thead>\n",
       "    <tr style=\"text-align: right;\">\n",
       "      <th></th>\n",
       "      <th>col</th>\n",
       "      <th>lost_col</th>\n",
       "      <th>%lost</th>\n",
       "      <th>add_col</th>\n",
       "      <th>ren_col</th>\n",
       "      <th>%ren</th>\n",
       "    </tr>\n",
       "  </thead>\n",
       "  <tbody>\n",
       "    <tr>\n",
       "      <th>1</th>\n",
       "      <td>2619940</td>\n",
       "      <td>416100</td>\n",
       "      <td>16</td>\n",
       "      <td>571880</td>\n",
       "      <td>245060</td>\n",
       "      <td>9</td>\n",
       "    </tr>\n",
       "    <tr>\n",
       "      <th>4</th>\n",
       "      <td>2801470</td>\n",
       "      <td>329820</td>\n",
       "      <td>12</td>\n",
       "      <td>736920</td>\n",
       "      <td>561160</td>\n",
       "      <td>20</td>\n",
       "    </tr>\n",
       "    <tr>\n",
       "      <th>7</th>\n",
       "      <td>3181180</td>\n",
       "      <td>397290</td>\n",
       "      <td>12</td>\n",
       "      <td>217320</td>\n",
       "      <td>282130</td>\n",
       "      <td>9</td>\n",
       "    </tr>\n",
       "    <tr>\n",
       "      <th>10</th>\n",
       "      <td>3032060</td>\n",
       "      <td>502350</td>\n",
       "      <td>17</td>\n",
       "      <td>124660</td>\n",
       "      <td>60390</td>\n",
       "      <td>2</td>\n",
       "    </tr>\n",
       "  </tbody>\n",
       "</table>\n",
       "</div>"
      ],
      "text/plain": [
       "        col  lost_col  %lost  add_col  ren_col  %ren\n",
       "1   2619940    416100     16   571880   245060     9\n",
       "4   2801470    329820     12   736920   561160    20\n",
       "7   3181180    397290     12   217320   282130     9\n",
       "10  3032060    502350     17   124660    60390     2"
      ]
     },
     "execution_count": 90,
     "metadata": {},
     "output_type": "execute_result"
    }
   ],
   "source": [
    "\n",
    "table1 = tables \n",
    "table1.index[1]\n",
    "col[1]\n",
    "table1"
   ]
  },
  {
   "cell_type": "code",
   "execution_count": 81,
   "metadata": {
    "collapsed": true
   },
   "outputs": [],
   "source": [
    "table1.columns = ['col', 'lost_col', '%lost', 'add_col', \n",
    "                  'ren_col', '%ren', ]"
   ]
  },
  {
   "cell_type": "code",
   "execution_count": 84,
   "metadata": {},
   "outputs": [],
   "source": [
    "col = table1.col\n",
    "lost_col = table1.lost_col\n",
    "addcol = table1.add_col\n",
    "ren_col = table1.ren_col\n",
    "\n",
    "table1.index = [1, 4, 7, 10]\n"
   ]
  },
  {
   "cell_type": "code",
   "execution_count": 85,
   "metadata": {},
   "outputs": [
    {
     "data": {
      "image/png": "[encoded data removed]",
      "text/plain": [
       "<matplotlib.figure.Figure at 0x285b249f358>"
      ]
     },
     "metadata": {},
     "output_type": "display_data"
    }
   ],
   "source": [
    "plot(table1.col)\n",
    "plot(table1.lost_col)"
   ]
  },
  {
   "cell_type": "code",
   "execution_count": 93,
   "metadata": {},
   "outputs": [],
   "source": [
    "\n"
   ]
  },
  {
   "cell_type": "code",
   "execution_count": 164,
   "metadata": {},
   "outputs": [],
   "source": [
    "init0= col[0]\n",
    "t0= table1.index[0]\n",
    "seasons=10\n",
    "\n",
    "\n",
    "system = System(t0=t0, p0= init0, p_add= .1, p_lost= .11, p_resc= .03)\n",
    "\n",
    "def step(system):\n",
    "    \n",
    "\n",
    "    \n",
    "\"\"\" n= random.randint(300000, 510000)\n",
    "    d= random.randint(120000, 580000)\n",
    "    r= random.randint(60000, 70000)\n",
    "    return d - n + r\"\"\"\n",
    "\n",
    "# the step funtion is really preliminary. It doesn't depend on any real factors yet, it literally just \n",
    "# picks a random number which is why the data is so choppy. We need to make n and d depend on actual other probability factors like \n",
    "#weather and blah blah and also have it distribute based on something more like a bell curve than just a random integer. \n",
    "    \n",
    "\n",
    "def run_simulation(system): \n",
    "    results= TimeSeries()\n",
    "    results[system.t0]= system.p0\n",
    "    bees= system.p0\n",
    "    for t in range(seasons):\n",
    "        bees+= step(system)\n",
    "        results[t+1] = bees\n",
    "    return results\n",
    "            \n",
    "    \n",
    "    "
   ]
  },
  {
   "cell_type": "code",
   "execution_count": 168,
   "metadata": {},
   "outputs": [
    {
     "data": {
      "image/png": "[encoded data removed]",
      "text/plain": [
       "<matplotlib.figure.Figure at 0x285b404e5c0>"
      ]
     },
     "metadata": {},
     "output_type": "display_data"
    }
   ],
   "source": [
    "seasons = 50\n",
    "\n",
    "g= run_simulation(system)\n",
    "\n",
    "plot(g)"
   ]
  },
  {
   "cell_type": "code",
   "execution_count": null,
   "metadata": {
    "collapsed": true
   },
   "outputs": [],
   "source": []
  },
  {
   "cell_type": "code",
   "execution_count": null,
   "metadata": {
    "collapsed": true
   },
   "outputs": [],
   "source": []
  },
  {
   "cell_type": "code",
   "execution_count": null,
   "metadata": {
    "collapsed": true
   },
   "outputs": [],
   "source": []
  }
 ],
 "metadata": {
  "kernelspec": {
   "display_name": "Python 3",
   "language": "python",
   "name": "python3"
  },
  "language_info": {
   "codemirror_mode": {
    "name": "ipython",
    "version": 3
   },
   "file_extension": ".py",
   "mimetype": "text/x-python",
   "name": "python",
   "nbconvert_exporter": "python",
   "pygments_lexer": "ipython3",
   "version": "3.6.1"
  }
 },
 "nbformat": 4,
 "nbformat_minor": 2
}
